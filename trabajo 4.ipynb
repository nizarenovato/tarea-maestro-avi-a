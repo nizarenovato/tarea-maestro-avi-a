{
  "cells": [
    {
      "cell_type": "markdown",
      "metadata": {
        "id": "view-in-github",
        "colab_type": "text"
      },
      "source": [
        "<a href=\"https://colab.research.google.com/github/nizarenovato/tarea-maestro-avi-a/blob/main/trabajo%204.ipynb\" target=\"_parent\"><img src=\"https://colab.research.google.com/assets/colab-badge.svg\" alt=\"Open In Colab\"/></a>"
      ]
    },
    {
      "cell_type": "code",
      "source": [
        "#Lea en un arreglo las edades de 10 personas (usar una función para leer los datos).\n",
        "#Elabore una función que cuente cuantas personas son mayores de edad y cuantas menores de edad.\n",
        "#Imprima en otra funcion cuantos son mayores de edad y cuantos menores de edad.\n",
        "#El programa debe tener 3 funciones: UNA PARA LEER LOS DATOS, LA SEGUNDA PARA OBTENER LOS MAYORES Y MENORES DE EDAD Y LA TERCERA PARA IMPRIMIR EL RESULTADO.\n",
        "def leer_edades():\n",
        "    edades = []\n",
        "    for i in range(10):\n",
        "        edad = int(input(f\"Ingrese la edad de la persona {i + 1}: \"))\n",
        "        edades.append(edad)\n",
        "    return edades\n",
        "\n",
        "def contar_mayores_menores(edades):\n",
        "    mayores = 0\n",
        "    menores = 0\n",
        "    for edad in edades:\n",
        "        if edad >= 18:\n",
        "            mayores += 1\n",
        "        else:\n",
        "            menores += 1\n",
        "    return mayores, menores\n",
        "\n",
        "def imprimir_resultado(mayores, menores):\n",
        "    print(f\"\\nCantidad de personas mayores de edad: {mayores}\")\n",
        "    print(f\"Cantidad de personas menores de edad: {menores}\")\n",
        "\n",
        "def main():\n",
        "    edades = leer_edades()\n",
        "    mayores, menores = contar_mayores_menores(edades)\n",
        "    imprimir_resultado(mayores, menores)\n",
        "main()\n",
        "\n",
        "\n"
      ],
      "metadata": {
        "id": "jGRcZV1WuTZb",
        "outputId": "93ea7da2-57a2-4160-9ed2-4c6fd6c53d3c",
        "colab": {
          "base_uri": "https://localhost:8080/"
        }
      },
      "execution_count": 4,
      "outputs": [
        {
          "output_type": "stream",
          "name": "stdout",
          "text": [
            "Ingrese la edad de la persona 1: 19\n",
            "Ingrese la edad de la persona 2: 16\n",
            "Ingrese la edad de la persona 3: 17\n",
            "Ingrese la edad de la persona 4: 16\n",
            "Ingrese la edad de la persona 5: 19\n",
            "Ingrese la edad de la persona 6: 20\n",
            "Ingrese la edad de la persona 7: 16\n",
            "Ingrese la edad de la persona 8: 17\n",
            "Ingrese la edad de la persona 9: 18\n",
            "Ingrese la edad de la persona 10: 18\n",
            "\n",
            "Cantidad de personas mayores de edad: 5\n",
            "Cantidad de personas menores de edad: 5\n"
          ]
        }
      ]
    }
  ],
  "metadata": {
    "colab": {
      "name": "Te damos la bienvenida a Colaboratory",
      "toc_visible": true,
      "provenance": [],
      "include_colab_link": true
    },
    "kernelspec": {
      "display_name": "Python 3",
      "name": "python3"
    }
  },
  "nbformat": 4,
  "nbformat_minor": 0
}